{
 "cells": [
  {
   "cell_type": "markdown",
   "id": "3040fc470c857aef",
   "metadata": {},
   "source": [
    "# Directory Tree Generator"
   ]
  },
  {
   "cell_type": "code",
   "execution_count": 1,
   "id": "initial_id",
   "metadata": {
    "ExecuteTime": {
     "end_time": "2024-10-04T12:46:14.969802Z",
     "start_time": "2024-10-04T12:46:14.961919Z"
    },
    "collapsed": true
   },
   "outputs": [],
   "source": [
    "import os"
   ]
  },
  {
   "cell_type": "code",
   "execution_count": 4,
   "id": "6df74ba45350e05b",
   "metadata": {
    "ExecuteTime": {
     "end_time": "2024-10-04T12:46:53.338087Z",
     "start_time": "2024-10-04T12:46:53.332489Z"
    }
   },
   "outputs": [],
   "source": [
    "def generate_tree(directory, prefix=''):\n",
    "    if not os.path.isdir(directory):\n",
    "        print(f\"'{directory}' is not a valid directory.\")\n",
    "        return\n",
    "    print(prefix + os.path.basename(directory) + \"/\")\n",
    "    prefix += \"----\"\n",
    "    for item in os.listdir(directory):\n",
    "        path = os.path.join(directory, item)\n",
    "        if os.path.isdir(path):\n",
    "            generate_tree(path, prefix)\n",
    "        else:\n",
    "            print(prefix + item)\n"
   ]
  },
  {
   "cell_type": "code",
   "execution_count": 7,
   "id": "b43022463a1132b1",
   "metadata": {
    "ExecuteTime": {
     "end_time": "2024-10-04T12:48:17.248421Z",
     "start_time": "2024-10-04T12:48:17.236599Z"
    }
   },
   "outputs": [
    {
     "name": "stdout",
     "output_type": "stream",
     "text": [
      "New folder (2)/\n",
      "----01-Set_Variables.jpg.png\n",
      "----02-Display_Values.jpg.png\n",
      "----03-CurrentTS.jpg.png\n",
      "----04-Set_Value.jpg.png\n",
      "----05-Define_Variable.jpg.png\n",
      "----06-Define_Variable.jpg.png\n",
      "----07-Change_Directory.jpg.png\n",
      "----08-YesterdayTS.jpg.png\n",
      "----09-List_AllFilesandDirectoriess.jpg.png\n",
      "----10-IF_Statement.jpg.png\n",
      "----11-Add_File.jpg.png\n",
      "----12-Create_Backup.jpg.png\n",
      "----13-Move_Backup.jpg.png\n",
      "----15-executable.jpg.png\n",
      "----16-backup-complete.jpg.png\n",
      "----17-crontab.jpg.png\n"
     ]
    }
   ],
   "source": [
    "generate_tree(\"C:/Users/Santosh/Downloads/New folder (2)\")"
   ]
  },
  {
   "cell_type": "code",
   "execution_count": 8,
   "id": "15849d64257fd2a2",
   "metadata": {
    "ExecuteTime": {
     "end_time": "2024-10-04T12:48:56.803333Z",
     "start_time": "2024-10-04T12:48:56.798631Z"
    }
   },
   "outputs": [
    {
     "name": "stdout",
     "output_type": "stream",
     "text": [
      "'C:/Users/Santosh/Downloads/New fol' is not a valid directory.\n"
     ]
    }
   ],
   "source": [
    "generate_tree(\"C:/Users/Santosh/Downloads/New fol\")"
   ]
  }
 ],
 "metadata": {
  "kernelspec": {
   "display_name": "Python 3",
   "language": "python",
   "name": "python3"
  },
  "language_info": {
   "codemirror_mode": {
    "name": "ipython",
    "version": 2
   },
   "file_extension": ".py",
   "mimetype": "text/x-python",
   "name": "python",
   "nbconvert_exporter": "python",
   "pygments_lexer": "ipython2",
   "version": "2.7.6"
  }
 },
 "nbformat": 4,
 "nbformat_minor": 5
}
